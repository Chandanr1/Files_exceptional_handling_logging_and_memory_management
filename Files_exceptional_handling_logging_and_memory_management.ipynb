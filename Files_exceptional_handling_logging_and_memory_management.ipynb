{
  "nbformat": 4,
  "nbformat_minor": 0,
  "metadata": {
    "colab": {
      "provenance": []
    },
    "kernelspec": {
      "name": "python3",
      "display_name": "Python 3"
    },
    "language_info": {
      "name": "python"
    }
  },
  "cells": [
    {
      "cell_type": "markdown",
      "source": [
        "# Files, exceptional handling,logging and memory management Assignment\n"
      ],
      "metadata": {
        "id": "Ckl2d7vwFMhQ"
      }
    },
    {
      "cell_type": "markdown",
      "source": [
        "1. What is the difference between interpreted and compiled languages?\n",
        "   * the major difference between them is that interpreter executes codes line by line whereas compiled languages compiles the whole code at one time.\n",
        "\n",
        "2. What is exception handling in Python?\n",
        "   * exception is defined as when an disrups occurs in an event execution.\n",
        "     exception handling helps us too handle those issues using try and catch concept.\n",
        "\n",
        "3. What is the purpose of the finally block in exception handling?\n",
        "   * finally blocks always executes . its purpose is display an message in last that work is done or in some case where we open an file in try block and and now we want to close that file then code for closing the file can be written in finally block.\n",
        "\n",
        "4. What is logging in Python?\n",
        "  * logging is basically where we store the records(logging is also an module in python) , in it flow of program and it's state is being saved .\n",
        "\n",
        "5. What is the significance of the __del__ method in Python?\n",
        "  * The __del__ method in Python is a special method (or magic method) that is used as a destructor. It is called when an object is about to be destroyed, typically when there are no more references to it. This method allows you to define cleanup actions (e.g., releasing resources like files or network connections) before the object is removed from memory.\n",
        "\n",
        "6. What is the difference between import and from ... import in Python?\n",
        "  *  The difference between them is that import .... imports an module and from ..... import specifies that from which package you want to import which module.\n",
        "\n",
        "7. How can you handle multiple exceptions in Python?\n",
        "  * there are two ways -\n",
        "    1. write mulitple except statements. for ex- except ZeroDivisionError as   \n",
        "       z: //body , except KeyError as e: //body\n",
        "    2. write in single except statement . for ex except(ZeroDivisionError,KeyError) as e:\n",
        "\n",
        "8. What is the purpose of the with statement when handling files in Python?\n",
        "  * The purpose of with statement when handling files in python is that it will automatically  close the file if it was opened\n",
        "\n",
        "9. What is the difference between multithreading and multiprocessing?\n",
        "  * difference between them is that multithreading is a concept of multi threads whereas multiproccessing is a concept of multiple proccess.\n",
        "   threads shares same memory resources and memory of a process , processes have different memory.\n",
        "   threads are used when i/o bound work , downloading and managing a file, processes are used for computational tasks.\n",
        "10. What are the advantages of using logging in a program?\n",
        "  * Advantages of using logging in  a program are-\n",
        "     * It stores the records\n",
        "     * logging file contains state and flow of program\n",
        "     * it is very usefull in exception handling because it have all the information  stored related to program , it may be it's state at a particulat time or its flow and at what time it performed which tasks\n",
        "\n",
        "11. What is memory management in Python?\n",
        "  * memory management in python refers to how it allocates and deaalocates the memory to object's in program execution. Python uses an efficient and automatic memory managment system that combines reference counting with garbage collection to manage memory effectively.\n",
        "\n",
        "12. What are the basic steps involved in exception handling in Python?\n",
        "  * Basically there are 4 steps in it -\n",
        "   1. try block : //body\n",
        "   2. except Exception as variable name: //body , in this best practice is to write particular exception\n",
        "   3. else block: this is executed when it does not enter into except block\n",
        "   4. finally block: this is block is always executed\n",
        "\n",
        "13. Why is memory management important in Python?\n",
        "  *\n",
        "    * efficient use of memory\n",
        "    * memory leaks\n",
        "    * avoiding program crashes\n",
        "    * optimizing performance\n",
        "    * Enabling mutithreading and multiprocessing\n",
        "  \n",
        "14. What is the role of try and except in exception handling?\n",
        "  * try and except are used to handle to error.these are the error which occur in runtime\n",
        "\n",
        "15. How does Python's garbage collection system work?\n",
        "  * 1.Reference Counting: Every time a reference to an object is made, its reference count is incremented. When a reference is deleted or goes out of scope, the reference count is decremented.\n",
        "\n",
        "  If an object's reference count becomes zero, Python immediately deallocates the object and frees the memory.\n",
        "\n",
        "    2. Cycle Detection: Python's garbage collector periodically looks for\n",
        "  objects that are part of reference cycles, where objects refer to each other in a loop, preventing their reference counts from reaching zero.\n",
        "\n",
        " The garbage collector uses an algorithm that can detect and break these cycles, making sure that these objects are eventually collected and their memory is freed.\n",
        "\n",
        "    3. Generational Collection: The garbage collector operates in          generations, with Generation 0 being the most frequently collected.\n",
        "    Objects that survive a collection cycle are promoted to higher\n",
        "    generations.\n",
        "\n",
        " Young objects (Generation 0) are collected more frequently because they are more likely to be short-lived.\n",
        " Older objects (Generations 1 and 2) are collected less frequently, which optimizes performance.\n",
        "\n"
      ],
      "metadata": {
        "id": "KRX-bwt0E2wV"
      }
    },
    {
      "cell_type": "markdown",
      "source": [
        "16. What is the purpose of the else block in exception handling?\n",
        "   * the else block executes when it does not go into except block.its purpose is to execute when it does not goes into except block\n",
        "  \n",
        "17. What are the common logging levels in Python?\n",
        "  * common levels are -\n",
        "    * debug\n",
        "    * info\n",
        "    * warning\n",
        "    * Error\n",
        "    * Critical\n",
        "\n",
        "18. What is the difference between os.fork() and multiprocessing in Python?\n",
        "  * The major difference between them is they differ in behaviour,usage and portability.\n",
        "\n",
        "19. What is the importance of closing a file in Python?\n",
        "  * there is a huge importance of closing an file , if we close file then only we will be able to access it's content. for ex- if i am writing an file and i havent closed it after writing and if i open that file then i will not be able to access its content.\n",
        "\n",
        "20. What is the difference between file.read() and file.readline() in Python?\n",
        "   * The difference bewtween them is that file.read() command will read all the content of file once and file.readline() command will read single line in a file.\n",
        "\n",
        "21. What is the logging module in Python used for?\n",
        "   * The logging module in python is used for storing the state and flow of program.\n",
        "\n",
        "22. What is the os module in Python used for in file handling?\n",
        "  * file operations - rename or delete\n",
        "  * directory operations -  os.mkdir , os.rmdir, os,getcwd,os.rmdirs\n",
        "  * file and directory informations\n",
        "  * file path operations\n",
        "\n",
        "23. What are the challenges associated with memory management in Python?\n",
        "  * Memory leaks\n",
        "  * fragmentation\n",
        "  * difficult debugging of memory issues\n",
        "\n",
        "24.  How do you raise an exception manually in Python?\n",
        "  * by using raise command\n",
        "\n",
        "25. Why is it important to use multithreading in certain applications?\n",
        "  * to reduce time in performing certain tasks . for ex- downloading an file on internet will take certain minutes but if we create threads they will download the files within few seconds . where we want to  use same resources same as process.\n",
        "\n",
        "\n"
      ],
      "metadata": {
        "id": "rloK7S-xLHJQ"
      }
    },
    {
      "cell_type": "code",
      "execution_count": 12,
      "metadata": {
        "id": "HNUusj4iEsF_"
      },
      "outputs": [],
      "source": [
        "#ans1\n",
        "f=open(\"file.txt\",\"w\")\n",
        "f.write(\"hello world\")\n",
        "f.close()"
      ]
    },
    {
      "cell_type": "code",
      "source": [
        "#ans2\n",
        "f=open(\"file.txt\",\"r\")\n",
        "print(f.readline())\n"
      ],
      "metadata": {
        "colab": {
          "base_uri": "https://localhost:8080/"
        },
        "id": "X6px69MHP60f",
        "outputId": "ca986186-932b-468d-b57f-0abd8150b42b"
      },
      "execution_count": 7,
      "outputs": [
        {
          "output_type": "stream",
          "name": "stdout",
          "text": [
            "hello world\n"
          ]
        }
      ]
    },
    {
      "cell_type": "code",
      "source": [
        "#ans3\n",
        "# if file does not exist then i will use exception handling where i will write\n",
        "try:\n",
        "  f=open(\"file.txt\",\"r\")\n",
        "except FileNotFoundError as e:\n",
        "  print(\"the error which occured is \",e)\n",
        "else:\n",
        "  print(f.read())"
      ],
      "metadata": {
        "colab": {
          "base_uri": "https://localhost:8080/",
          "height": 176
        },
        "id": "xwPU3U6YQR0w",
        "outputId": "f68101f8-f786-4ed1-d615-23894b9a3f62"
      },
      "execution_count": 8,
      "outputs": [
        {
          "output_type": "error",
          "ename": "FileNotFoundError",
          "evalue": "[Errno 2] No such file or directory: 'file1.txt'",
          "traceback": [
            "\u001b[0;31m---------------------------------------------------------------------------\u001b[0m",
            "\u001b[0;31mFileNotFoundError\u001b[0m                         Traceback (most recent call last)",
            "\u001b[0;32m<ipython-input-8-1dab0f5e3224>\u001b[0m in \u001b[0;36m<cell line: 0>\u001b[0;34m()\u001b[0m\n\u001b[1;32m      1\u001b[0m \u001b[0;31m#ans3\u001b[0m\u001b[0;34m\u001b[0m\u001b[0;34m\u001b[0m\u001b[0m\n\u001b[0;32m----> 2\u001b[0;31m \u001b[0mf\u001b[0m\u001b[0;34m=\u001b[0m\u001b[0mopen\u001b[0m\u001b[0;34m(\u001b[0m\u001b[0;34m\"file1.txt\"\u001b[0m\u001b[0;34m,\u001b[0m\u001b[0;34m\"r\"\u001b[0m\u001b[0;34m)\u001b[0m\u001b[0;34m\u001b[0m\u001b[0;34m\u001b[0m\u001b[0m\n\u001b[0m\u001b[1;32m      3\u001b[0m \u001b[0mf\u001b[0m\u001b[0;34m.\u001b[0m\u001b[0mread\u001b[0m\u001b[0;34m(\u001b[0m\u001b[0;34m)\u001b[0m\u001b[0;34m\u001b[0m\u001b[0;34m\u001b[0m\u001b[0m\n",
            "\u001b[0;31mFileNotFoundError\u001b[0m: [Errno 2] No such file or directory: 'file1.txt'"
          ]
        }
      ]
    },
    {
      "cell_type": "code",
      "source": [
        "#ans4\n",
        "f=open(\"file.txt\",\"r\")\n",
        "f1=open(\"file1.txt\",\"w\")\n",
        "f1.write(f.read())\n",
        "f1.close()\n",
        "\n",
        "t=open(\"file1.txt\",\"r\")\n",
        "print(t.read())\n"
      ],
      "metadata": {
        "colab": {
          "base_uri": "https://localhost:8080/"
        },
        "id": "dDVqCoEGQrbK",
        "outputId": "b7f6a8de-fb8c-4e3d-a590-ac0eb46cae51"
      },
      "execution_count": 14,
      "outputs": [
        {
          "output_type": "stream",
          "name": "stdout",
          "text": [
            "hello world\n"
          ]
        }
      ]
    },
    {
      "cell_type": "code",
      "source": [
        "#ans5\n",
        "try:\n",
        "  print(10/0)\n",
        "except ZeroDivisionError as e:\n",
        "  print(\"the error which occured is \",e)\n"
      ],
      "metadata": {
        "colab": {
          "base_uri": "https://localhost:8080/"
        },
        "id": "jHsFwFUoRYvL",
        "outputId": "58fecfc1-7eac-4555-db78-720a6aec2f56"
      },
      "execution_count": 15,
      "outputs": [
        {
          "output_type": "stream",
          "name": "stdout",
          "text": [
            "the error which occured is  division by zero\n"
          ]
        }
      ]
    },
    {
      "cell_type": "code",
      "source": [
        "#ans6\n",
        "import logging\n",
        "logging.basicConfig(filename=\"file.log\",level=logging.ERROR)\n",
        "\n",
        "try:\n",
        "  print(10/0)\n",
        "except ZeroDivisionError as e:\n",
        "  logging.error(f\"the error which occured is {e}\")"
      ],
      "metadata": {
        "colab": {
          "base_uri": "https://localhost:8080/"
        },
        "id": "fIRhclWVR3_0",
        "outputId": "ec6799b2-4935-4f0c-80d2-8e9e21ec507b"
      },
      "execution_count": 16,
      "outputs": [
        {
          "output_type": "stream",
          "name": "stderr",
          "text": [
            "ERROR:root:the error which occured is division by zero\n"
          ]
        }
      ]
    },
    {
      "cell_type": "code",
      "source": [
        "#ans7\n",
        "# basically we will specify to logging that at which level we want to use it by specifiy it s level here logging.basicConfig(filename=\"file.log\",level=logging.ERROR)\n",
        "logging.basicConfig(filename=\"file.log\",level=logging.ERROR)\n",
        "logging.basicConfig(filename=\"file.log\",level=logging.DEBUG)\n",
        "logging.basicConfig(filename=\"file.log\",level=logging.INFO)"
      ],
      "metadata": {
        "id": "G8X5B24VSOlw"
      },
      "execution_count": null,
      "outputs": []
    },
    {
      "cell_type": "code",
      "source": [
        "#ans8\n",
        "try:\n",
        "  f=open(\"file2.txt\",\"r\")\n",
        "except FileNotFoundError as e:\n",
        "  logging.error(f\"the error which occured is {e}\")"
      ],
      "metadata": {
        "colab": {
          "base_uri": "https://localhost:8080/"
        },
        "id": "p0SXNfRnSrAX",
        "outputId": "206d8cec-e3ab-413c-89a4-4a0a06c6b047"
      },
      "execution_count": 17,
      "outputs": [
        {
          "output_type": "stream",
          "name": "stderr",
          "text": [
            "ERROR:root:the error which occured is [Errno 2] No such file or directory: 'file2.txt'\n"
          ]
        }
      ]
    },
    {
      "cell_type": "code",
      "source": [
        "#ans9\n",
        "f=open(\"file.txt\",\"w\")\n",
        "f.write(\"hello world\\n how are you\")\n",
        "f.close()\n",
        "f=open(\"file.txt\",\"r\")\n",
        "a=f.readlines()\n",
        "l=[]\n",
        "for i in a:\n",
        "  l.append(i.strip())\n",
        "print(l)\n"
      ],
      "metadata": {
        "colab": {
          "base_uri": "https://localhost:8080/"
        },
        "id": "4H2ldYGKS3e4",
        "outputId": "233b6cd7-157e-4186-e8ed-ab0feb89d372"
      },
      "execution_count": 41,
      "outputs": [
        {
          "output_type": "stream",
          "name": "stdout",
          "text": [
            "['hello world', 'how are you']\n"
          ]
        }
      ]
    },
    {
      "cell_type": "code",
      "source": [
        "#ans10\n",
        "# by opening file in append mode we can insert new data to file\n",
        "f=open(\"file.txt\",\"a\")"
      ],
      "metadata": {
        "id": "_8YU14ooT1_N"
      },
      "execution_count": null,
      "outputs": []
    },
    {
      "cell_type": "code",
      "source": [
        "#ans11\n",
        "dict={'name':\"chandan\"}\n",
        "try:\n",
        "  print(dict['age'])\n",
        "except KeyError as e:\n",
        "  print(\"the error which occured is \",e)"
      ],
      "metadata": {
        "colab": {
          "base_uri": "https://localhost:8080/"
        },
        "id": "74oZrMTaTNQF",
        "outputId": "6fc95cb5-646a-4393-ed70-860595bc7f96"
      },
      "execution_count": 22,
      "outputs": [
        {
          "output_type": "stream",
          "name": "stdout",
          "text": [
            "the error which occured is  'age'\n"
          ]
        }
      ]
    },
    {
      "cell_type": "code",
      "source": [
        "#ans12\n",
        "try:\n",
        "  print(10/0)\n",
        "  print(dict['age'])\n",
        "except ZeroDivisionError as e:\n",
        "  print(\"the error which occured is \",e)\n",
        "except KeyError as t:\n",
        "  print(\"the error which occured is \",t)"
      ],
      "metadata": {
        "colab": {
          "base_uri": "https://localhost:8080/"
        },
        "id": "CulZtcNVUYhq",
        "outputId": "91b24b3d-e7ba-420f-e701-607ecaee59f9"
      },
      "execution_count": 23,
      "outputs": [
        {
          "output_type": "stream",
          "name": "stdout",
          "text": [
            "the error which occured is  division by zero\n"
          ]
        }
      ]
    },
    {
      "cell_type": "code",
      "source": [
        "#ans13\n",
        "import os\n",
        "file_name=\"file3.txt\"\n",
        "\n",
        "if os.path.isfile(file_name):\n",
        "  print(f\"{file_name} already exists\")\n",
        "else:\n",
        "  print(f\"{file_name} does not exist\")"
      ],
      "metadata": {
        "colab": {
          "base_uri": "https://localhost:8080/"
        },
        "id": "GEZwYP9JUsJA",
        "outputId": "865f9940-b646-4982-fa7f-fa5a2f79e788"
      },
      "execution_count": 25,
      "outputs": [
        {
          "output_type": "stream",
          "name": "stdout",
          "text": [
            "file3.txt does not exist\n"
          ]
        }
      ]
    },
    {
      "cell_type": "code",
      "source": [
        "#ans14\n",
        "import logging\n",
        "logging.basicConfig(filename=\"file.log\",level=logging.DEBUG)\n",
        "logging.info(\"this is information\")\n",
        "logging.error(\"this is error\")"
      ],
      "metadata": {
        "colab": {
          "base_uri": "https://localhost:8080/"
        },
        "id": "WZQJtL5aU55l",
        "outputId": "61b2e161-c8eb-4fa0-a175-ebe54a7e130f"
      },
      "execution_count": 26,
      "outputs": [
        {
          "output_type": "stream",
          "name": "stderr",
          "text": [
            "ERROR:root:this is error\n"
          ]
        }
      ]
    },
    {
      "cell_type": "code",
      "source": [
        "#ans15\n",
        "def read_file(file_path):\n",
        "    try:\n",
        "        with open(file_path, 'r') as file:\n",
        "            content = file.read()\n",
        "            if content:\n",
        "                print(\"File content:\")\n",
        "                print(content)\n",
        "            else:\n",
        "                print(\"The file is empty.\")\n",
        "    except FileNotFoundError:\n",
        "        print(f\"Error: The file at {file_path} does not exist.\")\n",
        "    except IOError as e:\n",
        "        print(f\"Error reading the file: {e}\")\n",
        "\n",
        "# Example usage\n",
        "file_path = 'file.txt'  # Change this to your file path\n",
        "read_file(file_path)\n"
      ],
      "metadata": {
        "colab": {
          "base_uri": "https://localhost:8080/"
        },
        "id": "np7cQoTJevp1",
        "outputId": "6788331e-01a9-40d4-de4c-87093465b830"
      },
      "execution_count": 28,
      "outputs": [
        {
          "output_type": "stream",
          "name": "stdout",
          "text": [
            "File content:\n",
            "hello world\n",
            " how are you\n"
          ]
        }
      ]
    },
    {
      "cell_type": "code",
      "source": [
        "#ans16\n",
        "#this topic hasn't been teached yet"
      ],
      "metadata": {
        "id": "JTxKT53Zua2Z"
      },
      "execution_count": null,
      "outputs": []
    },
    {
      "cell_type": "code",
      "source": [
        "#ans17\n",
        "with open(\"file4.txt\",\"w\") as f:\n",
        "  f.write(\"1\\n2\\n3\\n4\\n\")\n",
        "\n",
        "with open(\"file4.txt\",\"r\") as f:\n",
        "  print(f.read())"
      ],
      "metadata": {
        "colab": {
          "base_uri": "https://localhost:8080/"
        },
        "id": "wQDL4IZTfshf",
        "outputId": "1059544a-cbd8-4c38-9dff-842a9343ddb1"
      },
      "execution_count": 29,
      "outputs": [
        {
          "output_type": "stream",
          "name": "stdout",
          "text": [
            "1\n",
            "2\n",
            "3\n",
            "4\n",
            "\n"
          ]
        }
      ]
    },
    {
      "cell_type": "code",
      "source": [
        "#ans18\n",
        "import logging\n",
        "from logging.handlers import RotatingFileHandler\n",
        "\n",
        "# Set up the logging configuration\n",
        "def setup_logger():\n",
        "    # Create a handler that rotates the log file after it reaches 1MB\n",
        "    handler = RotatingFileHandler('app.log', maxBytes=1*1024*1024, backupCount=3)  # max size: 1MB, keep 3 backups\n",
        "    handler.setLevel(logging.DEBUG)  # Log everything from DEBUG level and above\n",
        "\n",
        "    # Create a formatter to include time, log level, and the message\n",
        "    formatter = logging.Formatter('%(asctime)s - %(levelname)s - %(message)s')\n",
        "    handler.setFormatter(formatter)\n",
        "\n",
        "    # Set up the logger\n",
        "    logger = logging.getLogger('rotating_logger')\n",
        "    logger.setLevel(logging.DEBUG)  # Capture all logs\n",
        "    logger.addHandler(handler)\n",
        "\n",
        "    return logger\n",
        "\n",
        "# Example usage\n",
        "logger = setup_logger()\n",
        "\n",
        "# Log some messages\n",
        "logger.debug(\"This is a debug message.\")\n",
        "logger.info(\"This is an info message.\")\n",
        "logger.warning(\"This is a warning message.\")\n",
        "logger.error(\"This is an error message.\")\n",
        "logger.critical(\"This is a critical message.\")\n"
      ],
      "metadata": {
        "id": "tcH5gLXHgCzo"
      },
      "execution_count": null,
      "outputs": []
    },
    {
      "cell_type": "code",
      "source": [
        "#ans19\n",
        "try:\n",
        "   print(1)\n",
        "except(IndexError,KeyError) as e:\n",
        "  print(\"the error which occured is\",e)\n",
        "\n"
      ],
      "metadata": {
        "id": "Ii03Zv6agOFr"
      },
      "execution_count": null,
      "outputs": []
    },
    {
      "cell_type": "code",
      "source": [
        "#ans20\n",
        "def read_file(file_path):\n",
        "    try:\n",
        "        # Using the 'with' statement to open and read the file\n",
        "        with open(file_path, 'r') as file:\n",
        "            content = file.read()\n",
        "            print(\"File content:\")\n",
        "            print(content)\n",
        "    except FileNotFoundError:\n",
        "        print(f\"Error: The file at {file_path} does not exist.\")\n",
        "    except IOError as e:\n",
        "        print(f\"Error reading the file: {e}\")\n",
        "\n",
        "# Example usage\n",
        "file_path = 'example.txt'  # Replace with your file path\n",
        "read_file(file_path)\n"
      ],
      "metadata": {
        "id": "kiJj5UqRqowE"
      },
      "execution_count": null,
      "outputs": []
    },
    {
      "cell_type": "code",
      "source": [
        "#ans21\n",
        "def occurences(file_name,target_word):\n",
        "  count=0\n",
        "  f=open(\"file.txt\",\"r\")\n",
        "  for i in f.read():\n",
        "    if target_word==i:\n",
        "      count+=1\n",
        "  return count\n",
        "\n",
        "print(occurences(\"file.txt\",\"o\"))"
      ],
      "metadata": {
        "colab": {
          "base_uri": "https://localhost:8080/"
        },
        "id": "ny19A6HSggJD",
        "outputId": "0a7b8359-29d1-49e5-8048-f60c1db6c915"
      },
      "execution_count": 31,
      "outputs": [
        {
          "output_type": "stream",
          "name": "stdout",
          "text": [
            "4\n"
          ]
        }
      ]
    },
    {
      "cell_type": "code",
      "source": [
        "#ans22\n",
        "import os\n",
        "file_name=\"file1.txt\"\n",
        "try:\n",
        "  if os.path.getsize(file_name)==0:\n",
        "    print(\"the file is empty\")\n",
        "  else:\n",
        "    print(\"the file is not empty\")\n",
        "except FileNotFoundError as e:\n",
        "  print(\"the error which occured is \",e)\n"
      ],
      "metadata": {
        "colab": {
          "base_uri": "https://localhost:8080/"
        },
        "id": "vjYsJWJrg9Cm",
        "outputId": "f0a2f2e5-ef82-4474-8611-14366f7a3d5f"
      },
      "execution_count": 39,
      "outputs": [
        {
          "output_type": "stream",
          "name": "stdout",
          "text": [
            "the file is not empty\n"
          ]
        }
      ]
    },
    {
      "cell_type": "code",
      "source": [
        "#ans23\n",
        "import logging\n",
        "logging.basicConfig(filename=\"file.log\",level=logging.ERROR)\n",
        "try:\n",
        "  with open(\"file.txt\",\"r\") as f:\n",
        "    print(f.read())\n",
        "\n",
        "except FileNotFoundError as e:\n",
        "  logging.error(f\"the error which occured is {e}\")"
      ],
      "metadata": {
        "colab": {
          "base_uri": "https://localhost:8080/"
        },
        "id": "xMakUW09p4yS",
        "outputId": "62ea7a31-131d-422e-8b03-f7c246fcb86c"
      },
      "execution_count": 40,
      "outputs": [
        {
          "output_type": "stream",
          "name": "stdout",
          "text": [
            "hello world\n",
            " how are you\n"
          ]
        }
      ]
    },
    {
      "cell_type": "code",
      "source": [],
      "metadata": {
        "id": "QnA-hwr1q4P7"
      },
      "execution_count": null,
      "outputs": []
    }
  ]
}